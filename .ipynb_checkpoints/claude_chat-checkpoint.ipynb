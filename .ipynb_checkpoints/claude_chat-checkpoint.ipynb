{
 "cells": [
  {
   "cell_type": "code",
   "execution_count": 1,
   "id": "195e895b-55cf-4041-a991-68d3c16336a6",
   "metadata": {},
   "outputs": [],
   "source": [
    "from claude_prompt import claude_prompt\n",
    "import pandas as pd\n",
    "import re\n",
    "import json"
   ]
  },
  {
   "cell_type": "code",
   "execution_count": 2,
   "id": "be1cded7-664b-45c0-afd8-ef2e4d57f32a",
   "metadata": {},
   "outputs": [],
   "source": [
    "df = pd.read_csv('dataset.csv')"
   ]
  },
  {
   "cell_type": "code",
   "execution_count": 3,
   "id": "1b120599-604a-4598-bec4-1f904b1c3096",
   "metadata": {},
   "outputs": [
    {
     "data": {
      "text/plain": [
       "style    Add 4 spaces (an extra level of indentation) t...\n",
       "code     def long_function_name(\\n        var_one, var_...\n",
       "label                                              correct\n",
       "Name: 1, dtype: object"
      ]
     },
     "execution_count": 3,
     "metadata": {},
     "output_type": "execute_result"
    }
   ],
   "source": [
    "example = df.iloc[1]\n",
    "example"
   ]
  },
  {
   "cell_type": "code",
   "execution_count": 4,
   "id": "aa41a591-8852-436e-91d2-76e37a5be80d",
   "metadata": {},
   "outputs": [
    {
     "name": "stdout",
     "output_type": "stream",
     "text": [
      "Prompt:\n",
      "\n",
      "You are an expert programmer with extensive experience and vast knowledge of different industries. You will help me create a dataset for correcting a code style according to the PEP 8 Python guideline. The dataset will be in the format \"code snippet - correct/wrong label\"\n",
      "\n",
      "You will be given an example of a stylistically correct code snippet, and your task is to generate a total of 10 similar snippets. When generating snippets, you must strictly adhere to the following instructions:\n",
      "\n",
      "<instructions>\n",
      "\n",
      "1. Snippets should be identical to the provided <example> in the <style_rule>, but not in all <other_aspects> (all relevant XML-sections are provided to you below)\n",
      "\n",
      "2. Generate examples that are different in <other_aspects> both from the provided <example> and from each other. You may only change the aspects from the <other_aspects> block, so don't be overly creative.\n",
      "\n",
      "3. Pay special attention to identation: some <style_rule>s rely on a specific number of spaces/tabs in each new line of code (starting from '\n",
      "' symbol), so you want to keep the identation identical to the one provided in the <example>.\n",
      "\n",
      "</instructions>\n",
      "\n",
      "<style_rule>\n",
      "Add 4 spaces (an extra level of indentation) to distinguish arguments from the rest.\n",
      "</style_rule>\n",
      "\n",
      "<other_aspects>\n",
      "- function naming, \n",
      "- number of function arguments (i.e. function signature), \n",
      "- names of function arguments (must be of different length)\n",
      "</other_aspects>\n",
      "\n",
      "<example>\n",
      "def long_function_name(\n",
      "        var_one, var_two, var_three,\n",
      "        var_four):\n",
      "    print(var_one)\n",
      "</example>\n",
      "\n",
      "<output_instruction>\n",
      "\n",
      "1. By looking at the <example> and <style_rule>, start your output with carefully refining the <style_rule> by generating <refined_rule> block. In this block, try to explain how to follow the <style_rule> step-by-step. Imagine explaining it to a new employee who has no context on how to use the rule aside from what you explicitly tell them. \n",
      "\n",
      "2. Paying close attention to the information from the <refined_rule> and <other_aspects> blocks, generate your samples as described in the <instructions>. \n",
      "\n",
      "3. Double-check your generated samples by counting whitespaces to make the identation correct (see rule #3).\n",
      "\n",
      "The output result should be in the following format:\n",
      "\n",
      "<result>\n",
      "{code_snippet_1}\n",
      "--\n",
      "{code_snippet_2}\n",
      "--\n",
      "...\n",
      "--\n",
      "{code_snippet_10}\n",
      "</result>\n",
      "</output_instruction>\n",
      "\n"
     ]
    },
    {
     "data": {
      "text/plain": [
       "'<refined_rule>\\nTo follow the style rule of adding 4 spaces (an extra level of indentation) to distinguish arguments from the rest, you should:\\n\\n1. Start writing the function definition line with the `def` keyword, followed by the function name and an opening parenthesis `(`.\\n2. On the next line, indent by 4 spaces and start listing the function arguments, separated by commas.\\n3. If there are multiple arguments, continue listing them on separate lines, each indented by 4 spaces.\\n4. After the last argument, add a closing parenthesis `)` and a colon `:`\\n5. On the next line, indent to the same level as the function definition line and start writing the function body.\\n</refined_rule>\\n\\n<result>\\ndef short_func(\\n        arg1, arg2, arg3,\\n        arg4):\\n    print(arg1)\\n--\\ndef calculate(\\n        num1, num2, operation,\\n        precision):\\n    print(num1)\\n--\\ndef process_data(\\n        data, filter_func, transform_func,\\n        output_format):\\n    print(data)\\n--\\ndef authenticate(\\n        username, password, ip_address,\\n        user_agent):\\n    print(username)\\n--\\ndef render_template(\\n        template_name, context_data, layout,\\n        encoding):\\n    print(template_name)\\n--\\ndef fetch_records(\\n        table_name, columns, filters,\\n        order_by):\\n    print(table_name)\\n--\\ndef send_notification(\\n        recipient, message, channel,\\n        priority):\\n    print(recipient)\\n--\\ndef validate_input(\\n        input_data, rules, error_messages,\\n        stop_on_error):\\n    print(input_data)\\n--\\ndef preprocess_image(\\n        image_path, target_size, color_mode,\\n        interpolation):\\n    print(image_path)\\n--\\ndef train_model(\\n        X_train, y_train, model_config,\\n        validation_data):\\n    print(X_train)\\n</result>'"
      ]
     },
     "execution_count": 4,
     "metadata": {},
     "output_type": "execute_result"
    }
   ],
   "source": [
    "response = claude_prompt(prompt_rule=example.style, prompt_code=example.code)[0].text\n",
    "response"
   ]
  },
  {
   "cell_type": "code",
   "execution_count": 10,
   "id": "97b6c259-8f08-462b-ba72-892c04e9fc9b",
   "metadata": {},
   "outputs": [
    {
     "data": {
      "text/plain": [
       "'\\ndef short_func(\\n        arg1, arg2, arg3,\\n        arg4):\\n    print(arg1)\\n--\\ndef calculate(\\n        num1, num2, operation,\\n        precision):\\n    print(num1)\\n--\\ndef process_data(\\n        data, filter_func, transform_func,\\n        output_format):\\n    print(data)\\n--\\ndef authenticate(\\n        username, password, ip_address,\\n        user_agent):\\n    print(username)\\n--\\ndef render_template(\\n        template_name, context_data, layout,\\n        encoding):\\n    print(template_name)\\n--\\ndef fetch_records(\\n        table_name, columns, filters,\\n        order_by):\\n    print(table_name)\\n--\\ndef send_notification(\\n        recipient, message, channel,\\n        priority):\\n    print(recipient)\\n--\\ndef validate_input(\\n        input_data, rules, error_messages,\\n        stop_on_error):\\n    print(input_data)\\n--\\ndef preprocess_image(\\n        image_path, target_size, color_mode,\\n        interpolation):\\n    print(image_path)\\n--\\ndef train_model(\\n        X_train, y_train, model_config,\\n        validation_data):\\n    print(X_train)\\n'"
      ]
     },
     "execution_count": 10,
     "metadata": {},
     "output_type": "execute_result"
    }
   ],
   "source": [
    "result_section = re.search(r'<result>(.*)</result>', response, re.DOTALL).group(1)\n",
    "result_section"
   ]
  },
  {
   "cell_type": "code",
   "execution_count": 11,
   "id": "6d4f85a6-6c04-4d98-b8de-887f7b073403",
   "metadata": {},
   "outputs": [
    {
     "data": {
      "text/plain": [
       "['def short_func(\\n        arg1, arg2, arg3,\\n        arg4):\\n    print(arg1)\\n',\n",
       " 'def calculate(\\n        num1, num2, operation,\\n        precision):\\n    print(num1)\\n',\n",
       " 'def process_data(\\n        data, filter_func, transform_func,\\n        output_format):\\n    print(data)\\n',\n",
       " 'def authenticate(\\n        username, password, ip_address,\\n        user_agent):\\n    print(username)\\n',\n",
       " 'def render_template(\\n        template_name, context_data, layout,\\n        encoding):\\n    print(template_name)\\n',\n",
       " 'def fetch_records(\\n        table_name, columns, filters,\\n        order_by):\\n    print(table_name)\\n',\n",
       " 'def send_notification(\\n        recipient, message, channel,\\n        priority):\\n    print(recipient)\\n',\n",
       " 'def validate_input(\\n        input_data, rules, error_messages,\\n        stop_on_error):\\n    print(input_data)\\n',\n",
       " 'def preprocess_image(\\n        image_path, target_size, color_mode,\\n        interpolation):\\n    print(image_path)\\n',\n",
       " 'def train_model(\\n        X_train, y_train, model_config,\\n        validation_data):\\n    print(X_train)']"
      ]
     },
     "execution_count": 11,
     "metadata": {},
     "output_type": "execute_result"
    }
   ],
   "source": [
    "# Splitting the result section into individual code snippets\n",
    "code_snippets = result_section.strip().split('--\\n')\n",
    "code_snippets"
   ]
  },
  {
   "cell_type": "code",
   "execution_count": 12,
   "id": "fba730ac-47c6-4280-986a-8003a6a93993",
   "metadata": {},
   "outputs": [
    {
     "name": "stdout",
     "output_type": "stream",
     "text": [
      "def short_func(\n",
      "        arg1, arg2, arg3,\n",
      "        arg4):\n",
      "    print(arg1)\n",
      "--------------------\n",
      "def calculate(\n",
      "        num1, num2, operation,\n",
      "        precision):\n",
      "    print(num1)\n",
      "--------------------\n",
      "def process_data(\n",
      "        data, filter_func, transform_func,\n",
      "        output_format):\n",
      "    print(data)\n",
      "--------------------\n",
      "def authenticate(\n",
      "        username, password, ip_address,\n",
      "        user_agent):\n",
      "    print(username)\n",
      "--------------------\n",
      "def render_template(\n",
      "        template_name, context_data, layout,\n",
      "        encoding):\n",
      "    print(template_name)\n",
      "--------------------\n",
      "def fetch_records(\n",
      "        table_name, columns, filters,\n",
      "        order_by):\n",
      "    print(table_name)\n",
      "--------------------\n",
      "def send_notification(\n",
      "        recipient, message, channel,\n",
      "        priority):\n",
      "    print(recipient)\n",
      "--------------------\n",
      "def validate_input(\n",
      "        input_data, rules, error_messages,\n",
      "        stop_on_error):\n",
      "    print(input_data)\n",
      "--------------------\n",
      "def preprocess_image(\n",
      "        image_path, target_size, color_mode,\n",
      "        interpolation):\n",
      "    print(image_path)\n",
      "--------------------\n",
      "def train_model(\n",
      "        X_train, y_train, model_config,\n",
      "        validation_data):\n",
      "    print(X_train)\n",
      "--------------------\n"
     ]
    }
   ],
   "source": [
    "# Printing each code snippet\n",
    "for snippet in code_snippets:\n",
    "    print(snippet.strip())\n",
    "    print('-' * 20)  # Just for visual separation"
   ]
  },
  {
   "cell_type": "code",
   "execution_count": null,
   "id": "a05b55af-9c9e-4121-878d-8c16f849faf1",
   "metadata": {},
   "outputs": [],
   "source": []
  }
 ],
 "metadata": {
  "kernelspec": {
   "display_name": "Python 3 (ipykernel)",
   "language": "python",
   "name": "python3"
  },
  "language_info": {
   "codemirror_mode": {
    "name": "ipython",
    "version": 3
   },
   "file_extension": ".py",
   "mimetype": "text/x-python",
   "name": "python",
   "nbconvert_exporter": "python",
   "pygments_lexer": "ipython3",
   "version": "3.12.2"
  }
 },
 "nbformat": 4,
 "nbformat_minor": 5
}
